{
 "cells": [
  {
   "cell_type": "code",
   "execution_count": 171,
   "metadata": {},
   "outputs": [],
   "source": [
    "import networkx as nx\n",
    "passing_network = nx.DiGraph()\n",
    "passing_network.add_edges_from(passing_data)"
   ]
  },
  {
   "cell_type": "code",
   "execution_count": 172,
   "metadata": {},
   "outputs": [],
   "source": [
    "p_b_data = pd.read_csv(\"playerdata.csv\")"
   ]
  },
  {
   "cell_type": "code",
   "execution_count": 173,
   "metadata": {},
   "outputs": [],
   "source": [
    "#df = df.assign(Percentage = lambda x: (x['Total_Marks'] /500 * 100))\n",
    "def name_switcher(n):\n",
    "    l = n.split(\" \")\n",
    "    return str(l[1]) + \", \" + str(l[0])\n",
    "p_b_data['Player'] = p_b_data['Player'].apply(lambda x: name_switcher(x))"
   ]
  },
  {
   "cell_type": "code",
   "execution_count": 174,
   "metadata": {},
   "outputs": [],
   "source": [
    "p_b_data.to_csv(\"namesmodifiedplayerdata.csv\")"
   ]
  },
  {
   "cell_type": "code",
   "execution_count": 175,
   "metadata": {},
   "outputs": [],
   "source": [
    "players = p_b_data['Player'].tolist()\n",
    "pers = p_b_data['PER'].tolist()\n",
    "asts = p_b_data['AST%'].tolist()\n",
    "per_data = dict(zip(players, pers))\n",
    "ast_data = dict(zip(players, asts))"
   ]
  },
  {
   "cell_type": "code",
   "execution_count": 176,
   "metadata": {},
   "outputs": [],
   "source": [
    "def per_accessor(p):\n",
    "    try:\n",
    "        return per_data[p]\n",
    "    except:\n",
    "        return 0\n",
    "    \n",
    "def ast_accessor(p):\n",
    "    try:\n",
    "        return ast_data[p]\n",
    "    except:\n",
    "        return 0\n",
    "\n",
    "\n",
    "G = passing_network\n",
    "\n",
    "between_centrality = nx.betweenness_centrality(G)\n",
    "\n",
    "\n",
    "per_centrality = {player: per_accessor(player) for player in G.nodes}\n",
    "\n",
    "factor=1.0/sum(per_centrality.values())\n",
    "per_centrality = {k: v*factor for k, v in per_centrality.items() }\n",
    "\n",
    "ast_centrality = {player: ast_accessor(player) for player in G.nodes}\n",
    "\n",
    "factor=1.0/sum(ast_centrality.values())\n",
    "ast_centrality = {k: v*factor for k, v in ast_centrality.items() }\n",
    "\n",
    "    \n",
    "\n",
    "# Combine centrality measures\n",
    "combined_centrality = {player: 0.5*between_centrality[player] + 0.25*per_centrality[player] + 0.25*ast_centrality[player] for player in G.nodes}\n"
   ]
  },
  {
   "cell_type": "code",
   "execution_count": 177,
   "metadata": {},
   "outputs": [
    {
     "name": "stdout",
     "output_type": "stream",
     "text": [
      "Best Duo: ('Harper, Jared', 'Temple, Garrett') with combined centrality 0.14315297010231096\n"
     ]
    }
   ],
   "source": [
    "# Identify the player with the highest combined centrality\n",
    "best_player = max(combined_centrality, key=combined_centrality.get)\n",
    "\n",
    "# Get the neighbors of the best player (potential duo)\n",
    "duo_candidates = list(G.neighbors(best_player))\n",
    "\n",
    "# Calculate combined centrality for each potential duo\n",
    "duo_centrality = {}\n",
    "for candidate in duo_candidates:\n",
    "    duo = (best_player, candidate)\n",
    "    duo_centrality[duo] = combined_centrality[best_player] + combined_centrality[candidate]\n",
    "\n",
    "# Identify the duo with the highest combined centrality\n",
    "best_duo = max(duo_centrality, key=duo_centrality.get)\n",
    "\n",
    "# Display the best duo\n",
    "print(f\"Best Duo: {best_duo} with combined centrality {duo_centrality[best_duo]}\")"
   ]
  },
  {
   "cell_type": "code",
   "execution_count": null,
   "metadata": {},
   "outputs": [],
   "source": []
  },
  {
   "cell_type": "code",
   "execution_count": null,
   "metadata": {},
   "outputs": [],
   "source": []
  }
 ],
 "metadata": {
  "kernelspec": {
   "display_name": "Python 3",
   "language": "python",
   "name": "python3"
  },
  "language_info": {
   "codemirror_mode": {
    "name": "ipython",
    "version": 3
   },
   "file_extension": ".py",
   "mimetype": "text/x-python",
   "name": "python",
   "nbconvert_exporter": "python",
   "pygments_lexer": "ipython3",
   "version": "3.8.5"
  }
 },
 "nbformat": 4,
 "nbformat_minor": 4
}
